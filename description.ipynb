{
 "cells": [
  {
   "cell_type": "code",
   "execution_count": 6,
   "metadata": {},
   "outputs": [],
   "source": [
    "from gensim.models.doc2vec import Doc2Vec, TaggedDocument\n",
    "import pandas as pd"
   ]
  },
  {
   "cell_type": "code",
   "execution_count": 7,
   "metadata": {},
   "outputs": [
    {
     "data": {
      "text/html": [
       "<div>\n",
       "<style scoped>\n",
       "    .dataframe tbody tr th:only-of-type {\n",
       "        vertical-align: middle;\n",
       "    }\n",
       "\n",
       "    .dataframe tbody tr th {\n",
       "        vertical-align: top;\n",
       "    }\n",
       "\n",
       "    .dataframe thead th {\n",
       "        text-align: right;\n",
       "    }\n",
       "</style>\n",
       "<table border=\"1\" class=\"dataframe\">\n",
       "  <thead>\n",
       "    <tr style=\"text-align: right;\">\n",
       "      <th></th>\n",
       "      <th>DESCRIÇÃO</th>\n",
       "    </tr>\n",
       "  </thead>\n",
       "  <tbody>\n",
       "    <tr>\n",
       "      <th>0</th>\n",
       "      <td>CADEIRA GIRATORIA ESTOFADA EM TECIDO C/ RODIZIOS</td>\n",
       "    </tr>\n",
       "    <tr>\n",
       "      <th>1</th>\n",
       "      <td>MICROCOMPUTADOR</td>\n",
       "    </tr>\n",
       "    <tr>\n",
       "      <th>2</th>\n",
       "      <td>MONITOR LCD DE 22 POLEGADAS</td>\n",
       "    </tr>\n",
       "    <tr>\n",
       "      <th>3</th>\n",
       "      <td>ESTACAO DE TRABALHO EM MELAMINA EM L C/ 4 GAVETAS</td>\n",
       "    </tr>\n",
       "    <tr>\n",
       "      <th>4</th>\n",
       "      <td>ESTACAO DE TRABALHO EM MELAMINA EM L C/ 4 GAVETAS</td>\n",
       "    </tr>\n",
       "  </tbody>\n",
       "</table>\n",
       "</div>"
      ],
      "text/plain": [
       "                                           DESCRIÇÃO\n",
       "0   CADEIRA GIRATORIA ESTOFADA EM TECIDO C/ RODIZIOS\n",
       "1                                    MICROCOMPUTADOR\n",
       "2                        MONITOR LCD DE 22 POLEGADAS\n",
       "3  ESTACAO DE TRABALHO EM MELAMINA EM L C/ 4 GAVETAS\n",
       "4  ESTACAO DE TRABALHO EM MELAMINA EM L C/ 4 GAVETAS"
      ]
     },
     "execution_count": 7,
     "metadata": {},
     "output_type": "execute_result"
    }
   ],
   "source": [
    "df = pd.read_csv(\"./arquivo-modelo.csv\")\n",
    "df.head()"
   ]
  },
  {
   "cell_type": "code",
   "execution_count": 8,
   "metadata": {},
   "outputs": [
    {
     "data": {
      "text/plain": [
       "(154453, 1)"
      ]
     },
     "execution_count": 8,
     "metadata": {},
     "output_type": "execute_result"
    }
   ],
   "source": [
    "df.shape"
   ]
  },
  {
   "cell_type": "code",
   "execution_count": 9,
   "metadata": {},
   "outputs": [],
   "source": [
    "corpus = df[\"DESCRIÇÃO\"]\n",
    "\n",
    "tagged_data = [TaggedDocument(words=document.split(), tags=[str(i)]) for i, document in enumerate(corpus)]\n",
    "\n",
    "model = Doc2Vec(vector_size=256, window=6, min_count=1, workers=16, epochs=128)\n",
    "model.build_vocab(tagged_data)\n",
    "model.train(tagged_data, total_examples=model.corpus_count, epochs=model.epochs)"
   ]
  },
  {
   "cell_type": "code",
   "execution_count": 10,
   "metadata": {},
   "outputs": [
    {
     "data": {
      "text/plain": [
       "[('MDF', 0.6997125),\n",
       " ('ARMARIOS', 0.10489529),\n",
       " ('ABERTOS', 0.032829408),\n",
       " ('AMADEIRADO', 0.0043001776),\n",
       " ('NICHO', 0.0013942824),\n",
       " ('ARMÁRIOS', 0.0013835807),\n",
       " ('TERAPEUTICOS', 0.00061421725),\n",
       " ('LAMINADO', 0.0004806653),\n",
       " ('(CORREDOR)', 0.00048053928),\n",
       " ('BANCOS', 0.00043292812)]"
      ]
     },
     "execution_count": 10,
     "metadata": {},
     "output_type": "execute_result"
    }
   ],
   "source": [
    "model.predict_output_word(\"ARMARIOS ABERTOS EM\".split())"
   ]
  },
  {
   "cell_type": "code",
   "execution_count": 11,
   "metadata": {},
   "outputs": [],
   "source": [
    "import pickle\n",
    "pickle.dump(model, open('model.pkl','wb'))"
   ]
  }
 ],
 "metadata": {
  "kernelspec": {
   "display_name": "Python 3",
   "language": "python",
   "name": "python3"
  },
  "language_info": {
   "codemirror_mode": {
    "name": "ipython",
    "version": 3
   },
   "file_extension": ".py",
   "mimetype": "text/x-python",
   "name": "python",
   "nbconvert_exporter": "python",
   "pygments_lexer": "ipython3",
   "version": "3.9.7"
  }
 },
 "nbformat": 4,
 "nbformat_minor": 2
}
